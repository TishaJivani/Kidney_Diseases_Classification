{
 "cells": [
  {
   "cell_type": "code",
   "execution_count": 7,
   "metadata": {},
   "outputs": [],
   "source": [
    "t={\"key\":\"Tisha\", \"key1\":\"Jay\", \"key2\":\"Yash\"}"
   ]
  },
  {
   "cell_type": "code",
   "execution_count": 8,
   "metadata": {},
   "outputs": [
    {
     "data": {
      "text/plain": [
       "'Jay'"
      ]
     },
     "execution_count": 8,
     "metadata": {},
     "output_type": "execute_result"
    }
   ],
   "source": [
    "t['key1']"
   ]
  },
  {
   "cell_type": "code",
   "execution_count": 10,
   "metadata": {},
   "outputs": [
    {
     "ename": "AttributeError",
     "evalue": "'dict' object has no attribute 'key1'",
     "output_type": "error",
     "traceback": [
      "\u001b[0;31m---------------------------------------------------------------------------\u001b[0m",
      "\u001b[0;31mAttributeError\u001b[0m                            Traceback (most recent call last)",
      "\u001b[1;32m/Users/tisha/Downloads/A_EXAM/ME_4/CE6/M_M/Kidney-Disease-Classification/research/trial.ipynb Cell 3\u001b[0m line \u001b[0;36m1\n\u001b[0;32m----> <a href='vscode-notebook-cell:/Users/tisha/Downloads/A_EXAM/ME_4/CE6/M_M/Kidney-Disease-Classification/research/trial.ipynb#W3sZmlsZQ%3D%3D?line=0'>1</a>\u001b[0m t\u001b[39m.\u001b[39;49mkey1\n",
      "\u001b[0;31mAttributeError\u001b[0m: 'dict' object has no attribute 'key1'"
     ]
    }
   ],
   "source": [
    "t.key1"
   ]
  },
  {
   "cell_type": "code",
   "execution_count": 11,
   "metadata": {},
   "outputs": [
    {
     "ename": "ModuleNotFoundError",
     "evalue": "No module named 'box'",
     "output_type": "error",
     "traceback": [
      "\u001b[0;31m---------------------------------------------------------------------------\u001b[0m",
      "\u001b[0;31mModuleNotFoundError\u001b[0m                       Traceback (most recent call last)",
      "\u001b[1;32m/Users/tisha/Downloads/A_EXAM/ME_4/CE6/M_M/Kidney-Disease-Classification/research/trial.ipynb Cell 4\u001b[0m line \u001b[0;36m1\n\u001b[0;32m----> <a href='vscode-notebook-cell:/Users/tisha/Downloads/A_EXAM/ME_4/CE6/M_M/Kidney-Disease-Classification/research/trial.ipynb#W4sZmlsZQ%3D%3D?line=0'>1</a>\u001b[0m \u001b[39mfrom\u001b[39;00m \u001b[39mbox\u001b[39;00m \u001b[39mimport\u001b[39;00m ConfigBox\n\u001b[1;32m      <a href='vscode-notebook-cell:/Users/tisha/Downloads/A_EXAM/ME_4/CE6/M_M/Kidney-Disease-Classification/research/trial.ipynb#W4sZmlsZQ%3D%3D?line=1'>2</a>\u001b[0m t1\u001b[39m=\u001b[39mConfigBox({\u001b[39m\"\u001b[39m\u001b[39mkey\u001b[39m\u001b[39m\"\u001b[39m:\u001b[39m\"\u001b[39m\u001b[39mTisha\u001b[39m\u001b[39m\"\u001b[39m, \u001b[39m\"\u001b[39m\u001b[39mkey1\u001b[39m\u001b[39m\"\u001b[39m:\u001b[39m\"\u001b[39m\u001b[39mJay\u001b[39m\u001b[39m\"\u001b[39m, \u001b[39m\"\u001b[39m\u001b[39mkey2\u001b[39m\u001b[39m\"\u001b[39m:\u001b[39m\"\u001b[39m\u001b[39mYash\u001b[39m\u001b[39m\"\u001b[39m})\n\u001b[1;32m      <a href='vscode-notebook-cell:/Users/tisha/Downloads/A_EXAM/ME_4/CE6/M_M/Kidney-Disease-Classification/research/trial.ipynb#W4sZmlsZQ%3D%3D?line=2'>3</a>\u001b[0m t1\u001b[39m.\u001b[39mkey\n",
      "\u001b[0;31mModuleNotFoundError\u001b[0m: No module named 'box'"
     ]
    }
   ],
   "source": [
    "from box import ConfigBox\n",
    "t1=ConfigBox({\"key\":\"Tisha\", \"key1\":\"Jay\", \"key2\":\"Yash\"})\n",
    "t1.key"
   ]
  },
  {
   "cell_type": "code",
   "execution_count": null,
   "metadata": {},
   "outputs": [],
   "source": []
  }
 ],
 "metadata": {
  "kernelspec": {
   "display_name": "Python 3",
   "language": "python",
   "name": "python3"
  },
  "language_info": {
   "codemirror_mode": {
    "name": "ipython",
    "version": 3
   },
   "file_extension": ".py",
   "mimetype": "text/x-python",
   "name": "python",
   "nbconvert_exporter": "python",
   "pygments_lexer": "ipython3",
   "version": "3.11.1"
  }
 },
 "nbformat": 4,
 "nbformat_minor": 2
}
